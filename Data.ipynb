{
  "nbformat": 4,
  "nbformat_minor": 0,
  "metadata": {
    "colab": {
      "provenance": []
    },
    "kernelspec": {
      "name": "python3",
      "display_name": "Python 3"
    },
    "language_info": {
      "name": "python"
    }
  },
  "cells": [
    {
      "cell_type": "code",
      "execution_count": 1,
      "metadata": {
        "colab": {
          "base_uri": "https://localhost:8080/"
        },
        "id": "D6LU7LIitzvt",
        "outputId": "990b963d-6ddc-42cf-91fc-f7a1484d3b40"
      },
      "outputs": [
        {
          "output_type": "stream",
          "name": "stdout",
          "text": [
            "CUDA available: False\n",
            "GPU: None\n"
          ]
        }
      ],
      "source": [
        "# Check for GPU\n",
        "import torch\n",
        "print(f\"CUDA available: {torch.cuda.is_available()}\")\n",
        "print(f\"GPU: {torch.cuda.get_device_name(0) if torch.cuda.is_available() else 'None'}\")"
      ]
    },
    {
      "cell_type": "code",
      "source": [
        "from google.colab import drive\n",
        "drive.mount('/content/drive')"
      ],
      "metadata": {
        "colab": {
          "base_uri": "https://localhost:8080/"
        },
        "id": "S_a15vtsuQDq",
        "outputId": "21dcac04-338f-4998-a71e-f4219f7e8843"
      },
      "execution_count": 2,
      "outputs": [
        {
          "output_type": "stream",
          "name": "stdout",
          "text": [
            "Mounted at /content/drive\n"
          ]
        }
      ]
    },
    {
      "cell_type": "code",
      "source": [
        "# Extract title, subtitle, keywords and comments for some sample articles and\n",
        "# store them\n",
        "import os\n",
        "import json\n",
        "import requests\n",
        "\n",
        "samples_dir = '/content/drive/MyDrive/Samples'\n",
        "COMMENTS_URL = 'http://www.nytimes.com/svc/community/V3/requestHandler?&cmd=GetCommentsAll&url='\n",
        "\n",
        "\n",
        "files = []\n",
        "for (root,dirs,file) in os.walk(samples_dir):\n",
        "  files = file\n",
        "\n",
        "\n",
        "for file in files:\n",
        "  with open(samples_dir+'/'+file,'r') as sample:\n",
        "    data = json.load(sample)\n",
        "    anchor = data['response']['docs'][0]\n",
        "\n",
        "    main = anchor['headline']['main']\n",
        "    abstract = anchor['abstract']\n",
        "    web_url = anchor['web_url']\n",
        "\n",
        "    kwds = anchor['keywords']\n",
        "    kwds_str = []\n",
        "    for kwd in kwds:\n",
        "      kwds_str.append(kwd['value'])\n",
        "\n",
        "    response = requests.get(COMMENTS_URL+web_url).json()\n",
        "    raw_comments = []\n",
        "    for comment in response['results']['comments']:\n",
        "        raw_comments.append(comment['commentBody'])\n",
        "\n",
        "    if raw_comments != []:\n",
        "      output = {\n",
        "          \"main\":main,\n",
        "          \"abstract\":abstract,\n",
        "          \"keywords\":kwds_str,\n",
        "          \"comments\":raw_comments,\n",
        "          \"web_url\": web_url\n",
        "      }\n",
        "\n",
        "      with open(f'{output[\"main\"]}.json','w',encoding='utf-8') as output_file:\n",
        "        output_file.write(json.dumps(output,indent=4))\n",
        "    else:\n",
        "      continue"
      ],
      "metadata": {
        "id": "XZsnMHFeue4Z"
      },
      "execution_count": 10,
      "outputs": []
    }
  ]
}