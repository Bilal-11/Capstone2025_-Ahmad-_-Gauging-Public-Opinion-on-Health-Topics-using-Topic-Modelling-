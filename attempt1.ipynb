{
 "cells": [
  {
   "cell_type": "code",
   "execution_count": 1,
   "id": "b3db71df",
   "metadata": {},
   "outputs": [],
   "source": [
    "# Module imports\n",
    "from transformers import T5Tokenizer"
   ]
  },
  {
   "cell_type": "code",
   "execution_count": 2,
   "id": "5df4f790",
   "metadata": {},
   "outputs": [
    {
     "data": {
      "text/plain": [
       "\"Cannabis is a true miracle 'drug' with very few negative side effects for the overwhelming majority of the population. It's a shame the drug czars have so recklessly demonized it the last hundred years, but what else would you expect from 'conservatism' and the puritanical Know Nothings ? A sizable portion of the population has performed scientific testing on cannabis for decades and the results are in: Cannabis is very good affordable antidote for a rainbow of physical ailments and illnesses and has limited adverse effects when used judiciously....and the pharmaceutical companies and 'conservatives' are devastated at this good news for society. Enjoy your edibles, gummies other cannabis infused delights.\\n\""
      ]
     },
     "execution_count": 2,
     "metadata": {},
     "output_type": "execute_result"
    }
   ],
   "source": [
    "# Get sample comment\n",
    "with open('input.txt') as file:\n",
    "    comment = file.read()\n",
    "\n",
    "comment"
   ]
  },
  {
   "cell_type": "code",
   "execution_count": 5,
   "id": "986c6f2f",
   "metadata": {},
   "outputs": [
    {
     "data": {
      "application/vnd.jupyter.widget-view+json": {
       "model_id": "134c52f3c9dc48ec95bb2f304bd7fe1e",
       "version_major": 2,
       "version_minor": 0
      },
      "text/plain": [
       "tokenizer_config.json:   0%|          | 0.00/2.32k [00:00<?, ?B/s]"
      ]
     },
     "metadata": {},
     "output_type": "display_data"
    },
    {
     "name": "stderr",
     "output_type": "stream",
     "text": [
      "C:\\Users\\sbila\\AppData\\Roaming\\Python\\Python312\\site-packages\\huggingface_hub\\file_download.py:139: UserWarning: `huggingface_hub` cache-system uses symlinks by default to efficiently store duplicated files but your machine does not support them in C:\\Users\\sbila\\.cache\\huggingface\\hub\\models--t5-small. Caching files will still work but in a degraded version that might require more space on your disk. This warning can be disabled by setting the `HF_HUB_DISABLE_SYMLINKS_WARNING` environment variable. For more details, see https://huggingface.co/docs/huggingface_hub/how-to-cache#limitations.\n",
      "To support symlinks on Windows, you either need to activate Developer Mode or to run Python as an administrator. In order to activate developer mode, see this article: https://docs.microsoft.com/en-us/windows/apps/get-started/enable-your-device-for-development\n",
      "  warnings.warn(message)\n"
     ]
    },
    {
     "data": {
      "application/vnd.jupyter.widget-view+json": {
       "model_id": "c4326e77b9774307948473e687cfc266",
       "version_major": 2,
       "version_minor": 0
      },
      "text/plain": [
       "spiece.model:   0%|          | 0.00/792k [00:00<?, ?B/s]"
      ]
     },
     "metadata": {},
     "output_type": "display_data"
    },
    {
     "data": {
      "application/vnd.jupyter.widget-view+json": {
       "model_id": "966ad07e209a425293182d15b1553f4d",
       "version_major": 2,
       "version_minor": 0
      },
      "text/plain": [
       "tokenizer.json:   0%|          | 0.00/1.39M [00:00<?, ?B/s]"
      ]
     },
     "metadata": {},
     "output_type": "display_data"
    },
    {
     "name": "stderr",
     "output_type": "stream",
     "text": [
      "You are using the default legacy behaviour of the <class 'transformers.models.t5.tokenization_t5.T5Tokenizer'>. This is expected, and simply means that the `legacy` (previous) behavior will be used so nothing changes for you. If you want to use the new behaviour, set `legacy=False`. This should only be set if you understand what it means, and thoroughly read the reason why this was added as explained in https://github.com/huggingface/transformers/pull/24565\n"
     ]
    },
    {
     "data": {
      "text/plain": [
       "['▁Cannabis',\n",
       " '▁is',\n",
       " '▁',\n",
       " 'a',\n",
       " '▁true',\n",
       " '▁miracle',\n",
       " '▁',\n",
       " \"'\",\n",
       " 'd',\n",
       " 'rug',\n",
       " \"'\",\n",
       " '▁with',\n",
       " '▁very',\n",
       " '▁few',\n",
       " '▁negative',\n",
       " '▁side',\n",
       " '▁effects',\n",
       " '▁for',\n",
       " '▁the',\n",
       " '▁overwhelming',\n",
       " '▁majority',\n",
       " '▁of',\n",
       " '▁the',\n",
       " '▁population',\n",
       " '.',\n",
       " '▁It',\n",
       " \"'\",\n",
       " 's',\n",
       " '▁',\n",
       " 'a',\n",
       " '▁shame',\n",
       " '▁the',\n",
       " '▁drug',\n",
       " '▁',\n",
       " 'c',\n",
       " 'zar',\n",
       " 's',\n",
       " '▁have',\n",
       " '▁so',\n",
       " '▁reckless',\n",
       " 'ly',\n",
       " '▁de',\n",
       " 'mon',\n",
       " 'ized',\n",
       " '▁it',\n",
       " '▁the',\n",
       " '▁last',\n",
       " '▁hundred',\n",
       " '▁years',\n",
       " ',',\n",
       " '▁but',\n",
       " '▁what',\n",
       " '▁else',\n",
       " '▁would',\n",
       " '▁you',\n",
       " '▁expect',\n",
       " '▁from',\n",
       " '▁',\n",
       " \"'\",\n",
       " 'con',\n",
       " 'serv',\n",
       " 'atism',\n",
       " \"'\",\n",
       " '▁and',\n",
       " '▁the',\n",
       " '▁pur',\n",
       " 'it',\n",
       " 'an',\n",
       " 'ical',\n",
       " '▁Know',\n",
       " '▁Nothing',\n",
       " 's',\n",
       " '▁',\n",
       " '?',\n",
       " '▁A',\n",
       " '▁si',\n",
       " 'z',\n",
       " 'able',\n",
       " '▁portion',\n",
       " '▁of',\n",
       " '▁the',\n",
       " '▁population',\n",
       " '▁has',\n",
       " '▁performed',\n",
       " '▁scientific',\n",
       " '▁testing',\n",
       " '▁on',\n",
       " '▁cannabis',\n",
       " '▁for',\n",
       " '▁decades',\n",
       " '▁and',\n",
       " '▁the',\n",
       " '▁results',\n",
       " '▁are',\n",
       " '▁in',\n",
       " ':',\n",
       " '▁Cannabis',\n",
       " '▁is',\n",
       " '▁very',\n",
       " '▁good',\n",
       " '▁affordable',\n",
       " '▁anti',\n",
       " 'd',\n",
       " 'o',\n",
       " 't',\n",
       " 'e',\n",
       " '▁for',\n",
       " '▁',\n",
       " 'a',\n",
       " '▁rainbow',\n",
       " '▁of',\n",
       " '▁physical',\n",
       " '▁ailments',\n",
       " '▁and',\n",
       " '▁illnesses',\n",
       " '▁and',\n",
       " '▁has',\n",
       " '▁limited',\n",
       " '▁adverse',\n",
       " '▁effects',\n",
       " '▁when',\n",
       " '▁used',\n",
       " '▁',\n",
       " 'jud',\n",
       " 'ici',\n",
       " 'ously',\n",
       " '....',\n",
       " 'and',\n",
       " '▁the',\n",
       " '▁pharmaceutical',\n",
       " '▁companies',\n",
       " '▁and',\n",
       " '▁',\n",
       " \"'\",\n",
       " 'con',\n",
       " 'serv',\n",
       " 'ative',\n",
       " 's',\n",
       " \"'\",\n",
       " '▁are',\n",
       " '▁devastated',\n",
       " '▁at',\n",
       " '▁this',\n",
       " '▁good',\n",
       " '▁news',\n",
       " '▁for',\n",
       " '▁society',\n",
       " '.',\n",
       " '▁Enjoy',\n",
       " '▁your',\n",
       " '▁edible',\n",
       " 's',\n",
       " ',',\n",
       " '▁',\n",
       " 'g',\n",
       " 'ummies',\n",
       " '▁other',\n",
       " '▁cannabis',\n",
       " '▁',\n",
       " 'infused',\n",
       " '▁delight',\n",
       " 's',\n",
       " '.']"
      ]
     },
     "execution_count": 5,
     "metadata": {},
     "output_type": "execute_result"
    }
   ],
   "source": [
    "tokenizer = T5Tokenizer.from_pretrained('t5-small')\n",
    "tokenizer.tokenize(text=comment)"
   ]
  }
 ],
 "metadata": {
  "kernelspec": {
   "display_name": "Python 3",
   "language": "python",
   "name": "python3"
  },
  "language_info": {
   "codemirror_mode": {
    "name": "ipython",
    "version": 3
   },
   "file_extension": ".py",
   "mimetype": "text/x-python",
   "name": "python",
   "nbconvert_exporter": "python",
   "pygments_lexer": "ipython3",
   "version": "3.12.6"
  }
 },
 "nbformat": 4,
 "nbformat_minor": 5
}
