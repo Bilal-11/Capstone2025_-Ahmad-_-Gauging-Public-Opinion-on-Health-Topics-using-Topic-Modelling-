{
  "nbformat": 4,
  "nbformat_minor": 0,
  "metadata": {
    "colab": {
      "provenance": []
    },
    "kernelspec": {
      "name": "python3",
      "display_name": "Python 3"
    },
    "language_info": {
      "name": "python"
    }
  },
  "cells": [
    {
      "cell_type": "code",
      "execution_count": 18,
      "metadata": {
        "id": "bUjZJfhbVDBZ"
      },
      "outputs": [],
      "source": [
        "COMMENTS_URL = 'http://www.nytimes.com/svc/community/V3/requestHandler?&cmd=GetCommentsAll&url='\n",
        "\n",
        "# url = 'https://www.nytimes.com/2025/07/28/opinion/doctors-government-agencies.html'"
      ]
    },
    {
      "cell_type": "code",
      "source": [
        "!pip install requests"
      ],
      "metadata": {
        "colab": {
          "base_uri": "https://localhost:8080/"
        },
        "id": "PGSIJz-_t4qW",
        "outputId": "733ef853-579e-4648-ad1e-482064b579fd"
      },
      "execution_count": 2,
      "outputs": [
        {
          "output_type": "stream",
          "name": "stdout",
          "text": [
            "Requirement already satisfied: requests in /usr/local/lib/python3.11/dist-packages (2.32.3)\n",
            "Requirement already satisfied: charset-normalizer<4,>=2 in /usr/local/lib/python3.11/dist-packages (from requests) (3.4.2)\n",
            "Requirement already satisfied: idna<4,>=2.5 in /usr/local/lib/python3.11/dist-packages (from requests) (3.10)\n",
            "Requirement already satisfied: urllib3<3,>=1.21.1 in /usr/local/lib/python3.11/dist-packages (from requests) (2.5.0)\n",
            "Requirement already satisfied: certifi>=2017.4.17 in /usr/local/lib/python3.11/dist-packages (from requests) (2025.8.3)\n"
          ]
        }
      ]
    },
    {
      "cell_type": "code",
      "source": [
        "import requests\n",
        "import json"
      ],
      "metadata": {
        "id": "-8xM00hCt6fT"
      },
      "execution_count": 39,
      "outputs": []
    },
    {
      "cell_type": "code",
      "source": [
        "def get_comments(url):\n",
        "  limit = 1000\n",
        "  offset_str = f'&limit={limit}'\n",
        "\n",
        "  response = requests.get(COMMENTS_URL+url+offset_str).json()\n",
        "  raw_comments = []\n",
        "  for comment in response['results']['comments']:\n",
        "    raw_comments.append(comment['commentBody'])\n",
        "\n",
        "  return raw_comments"
      ],
      "metadata": {
        "id": "iQV60bq-txdY"
      },
      "execution_count": 19,
      "outputs": []
    },
    {
      "cell_type": "code",
      "source": [
        "links = [\n",
        "        \"https://www.nytimes.com/interactive/2025/04/01/opinion/ivf-gene-selection-fertility.html\",\n",
        "        \"https://www.nytimes.com/2025/04/04/opinion/health-cancer-rfk-young.html\",\n",
        "        \"https://www.nytimes.com/2025/04/19/opinion/embryo-ivf-babies.html\",\n",
        "        \"https://www.nytimes.com/2025/04/22/magazine/parenting-children-social-media.html\",\n",
        "        \"https://www.nytimes.com/2025/05/15/opinion/weight-watchers-bankrupt-dieting.html\",\n",
        "        \"https://www.nytimes.com/2025/05/17/opinion/rfk-health-antidepressants.html\",\n",
        "        \"https://www.nytimes.com/2025/05/24/opinion/muscles-bodies-fathers-daughters.html\",\n",
        "        \"https://www.nytimes.com/2025/06/14/opinion/dementia-alzheimers-family-memoir.html\",\n",
        "        \"https://www.nytimes.com/2025/07/05/opinion/dementia.html\",\n",
        "        \"https://www.nytimes.com/2025/07/30/opinion/autism-adhd-diagnosis-creep.html\",\n",
        "        \"https://www.nytimes.com/2025/08/12/opinion/freeze-sperm-infertility-chemicals.html\",\n",
        "        \"https://www.nytimes.com/2024/12/27/opinion/telehealth-medicine-technology-doctors.html\",\n",
        "        \"https://www.nytimes.com/2025/01/02/opinion/nutrition-ultraprocessed-food.html\",\n",
        "        \"https://www.nytimes.com/2025/01/08/opinion/pcos-diagnosis-internet-pregnancy.html\",\n",
        "        \"https://www.nytimes.com/2025/01/13/opinion/alcohol-cancer.html\",\n",
        "        \"https://www.nytimes.com/2025/01/16/opinion/health-care-geriatrics-boomers-aging.html\",\n",
        "        \"https://www.nytimes.com/2025/01/16/opinion/opioid-addiction-treatment-maine-jail.html\",\n",
        "        \"https://www.nytimes.com/2025/01/24/opinion/alzheimers-fraud-cure.html\",\n",
        "        \"https://www.nytimes.com/2025/02/02/opinion/ai-doctors-medicine.html\",\n",
        "        \"https://www.nytimes.com/2025/02/22/opinion/drug-treatment.html\",\n",
        "        \"https://www.nytimes.com/2025/02/27/opinion/sex-education-consent.html\",\n",
        "        \"https://www.nytimes.com/2025/03/11/opinion/pandemic-cycle-chaos.html\",\n",
        "        \"https://www.nytimes.com/2025/03/21/opinion/down-syndrome-family-life.html\",\n",
        "        \"https://www.nytimes.com/2025/03/26/opinion/vaccine-study-debate.html\",\n",
        "        \"https://www.nytimes.com/2024/05/01/opinion/smartphones-social-media-mental-health-teens.html\",\n",
        "        \"https://www.nytimes.com/2024/05/07/opinion/ozempic-weight-loss-drugs.html\",\n",
        "        \"https://www.nytimes.com/2024/05/08/opinion/adult-children-mental-illness.html\",\n",
        "        \"https://www.nytimes.com/2024/05/13/opinion/allergies-climate-change.html\",\n",
        "        \"https://www.nytimes.com/2024/05/13/opinion/treatment-over-objection-medical-ethics.html\",\n",
        "        \"https://www.nytimes.com/2024/06/03/opinion/heat-technology-climate.html\",\n",
        "        \"https://www.nytimes.com/2024/06/15/opinion/father-dementia-family.html\",\n",
        "        \"https://www.nytimes.com/2024/06/08/opinion/alzheimers-mom-family-diagnosis.html\",\n",
        "        \"https://www.nytimes.com/2024/06/17/opinion/social-media-health-warning.html\",\n",
        "        \"https://www.nytimes.com/interactive/2024/06/20/opinion/nuclear-weapons-testing.html\",\n",
        "        \"https://www.nytimes.com/2024/06/30/opinion/food-warning-labels-ultra-processed-food.html\",\n",
        "        \"https://www.nytimes.com/2024/07/03/opinion/america-antivax-china-philippines.html\",\n",
        "        \"https://www.nytimes.com/2024/07/11/opinion/longevity-live-longer.html\",\n",
        "        \"https://www.nytimes.com/2024/08/04/opinion/fentanyl-secondhand-exposure-myth.html\",\n",
        "        \"https://www.nytimes.com/2024/08/16/opinion/tuberculosis-infectious-disease-prevention.html\",\n",
        "        \"https://www.nytimes.com/2024/09/19/opinion/obesity-disease-ozempic-weight-loss.html\",\n",
        "        \"https://www.nytimes.com/2024/09/25/opinion/abortions-necessary-sympathy.html\",\n",
        "        \"https://www.nytimes.com/2024/10/27/opinion/body-muscles-40s-aging.html\",\n",
        "        \"https://www.nytimes.com/2024/10/17/opinion/virus-season-flu-covid-mpox-rsv.html\",\n",
        "        \"https://www.nytimes.com/interactive/2024/10/17/opinion/dobbs-roe-abortion-stories.html\",\n",
        "        \"https://www.nytimes.com/2024/10/28/opinion/opioid-crisis-pharmacists.html\",\n",
        "        \"https://www.nytimes.com/2024/11/05/opinion/uncertainty.html\",\n",
        "        \"https://www.nytimes.com/2024/11/10/opinion/diagnosis-clarity-cancer-illness.html\",\n",
        "        \"https://www.nytimes.com/2024/11/13/opinion/vaccines-fluoride-raw-milk.html\",\n",
        "        \"https://www.nytimes.com/2024/11/29/opinion/alzheimers-elder-care.html\",\n",
        "        \"https://www.nytimes.com/2024/12/16/opinion/ultraprocessed-food-nutrition.html\",\n",
        "        \"https://www.nytimes.com/2023/01/26/opinion/aap-obesity-guidelines-bmi-wegovy-ozempic.html\",\n",
        "        \"https://www.nytimes.com/2023/03/04/opinion/gene-editing-crispr-fertility-medicine.html\",\n",
        "        \"https://www.nytimes.com/2023/03/25/opinion/walking-hiking-spring.html\",\n",
        "        \"https://www.nytimes.com/2023/03/29/opinion/how-to-accept-death.html\",\n",
        "        \"https://www.nytimes.com/2023/04/30/opinion/masks-pandemic.html\",\n",
        "        \"https://www.nytimes.com/2023/06/20/opinion/psychology-brain-biased-memory.html\",\n",
        "        \"https://www.nytimes.com/2023/08/02/opinion/health/coal-mining-black-lung-silica.html\",\n",
        "        \"https://www.nytimes.com/2023/08/30/opinion/cancer-breast-prostate-treatment.html\",\n",
        "        \"https://www.nytimes.com/2023/10/09/opinion/ozempic-obesity-fat-diabetes.html\",\n",
        "        \"https://www.nytimes.com/2023/10/19/opinion/troubled-teens-industry-regulation.html\",\n",
        "        \"https://www.nytimes.com/2023/11/27/opinion/peripheral-artery-disease.html\",\n",
        "        \"https://www.nytimes.com/2023/12/11/opinion/love-light-winter-darkness.html\",\n",
        "        \"https://www.nytimes.com/2023/12/13/opinion/addiction-policy-treatment-opioid.html\",\n",
        "        \"https://www.nytimes.com/interactive/2023/12/14/opinion/my-life-with-long-covid.html\",\n",
        "        \"https://www.nytimes.com/2024/01/22/opinion/pain-recovery-drug-addiction.html\",\n",
        "        \"https://www.nytimes.com/2024/01/31/opinion/gene-therapy-cure-diseases.html\",\n",
        "        \"https://www.nytimes.com/2024/02/01/opinion/health/measels-europe-vaccination.html\",\n",
        "        \"https://www.nytimes.com/2024/03/26/opinion/cancer-kate-middleton-privacy.html\",\n",
        "        \"https://www.nytimes.com/2024/04/02/opinion/kidney-donations-compensation.html\",\n",
        "        \"https://www.nytimes.com/2024/04/03/opinion/sex-assigned-at-birth.html\",\n",
        "        \"https://www.nytimes.com/2024/04/03/opinion/dengue-fever-latin-america-travel.html\",\n",
        "        \"https://www.nytimes.com/2024/04/12/opinion/india-health-care-recovery.html\",\n",
        "        \"https://www.nytimes.com/2024/04/17/opinion/lumina-cavity-vaccine-covid-diy.html\",\n",
        "        \"https://www.nytimes.com/2024/04/24/opinion/ozempic-wegovy-weight-glp1.html\"\n",
        "    ]"
      ],
      "metadata": {
        "id": "abO0oYzu6FuU"
      },
      "execution_count": 25,
      "outputs": []
    },
    {
      "cell_type": "code",
      "source": [
        "len(links)"
      ],
      "metadata": {
        "colab": {
          "base_uri": "https://localhost:8080/"
        },
        "id": "jO2SDwkU6lmP",
        "outputId": "60eefa26-a078-4721-b8d6-28cf8adec624"
      },
      "execution_count": 26,
      "outputs": [
        {
          "output_type": "execute_result",
          "data": {
            "text/plain": [
              "74"
            ]
          },
          "metadata": {},
          "execution_count": 26
        }
      ]
    },
    {
      "cell_type": "code",
      "source": [
        "sum_comms = 0\n",
        "zero_comms = 0\n",
        "summary = dict()\n",
        "non_zero_links = []\n",
        "for idx,article in enumerate(links):\n",
        "  num_comms = len(get_comments(article))\n",
        "  # print(f'{idx}: {num_comms}')\n",
        "  sum_comms += num_comms\n",
        "  if num_comms == 0:\n",
        "    zero_comms += 1\n",
        "    continue\n",
        "\n",
        "  non_zero_links.append(article)\n",
        "  summary[idx] = num_comms\n",
        "\n",
        "print(summary)\n",
        "print('----------')\n",
        "print(sum_comms)\n",
        "print('----------')\n",
        "print(zero_comms)"
      ],
      "metadata": {
        "colab": {
          "base_uri": "https://localhost:8080/"
        },
        "id": "z77srEPQ6XmV",
        "outputId": "3717e23d-ec09-4739-87a8-0e38200048de"
      },
      "execution_count": 34,
      "outputs": [
        {
          "output_type": "stream",
          "name": "stdout",
          "text": [
            "{0: 195, 1: 171, 3: 155, 4: 261, 6: 40, 10: 234, 11: 176, 12: 11, 13: 9, 14: 322, 15: 189, 17: 175, 21: 56, 22: 84, 24: 141, 25: 500, 27: 130, 28: 259, 29: 377, 30: 157, 31: 138, 32: 383, 33: 175, 34: 259, 38: 69, 39: 500, 41: 196, 43: 258, 44: 92, 45: 156, 46: 154, 47: 500, 48: 61, 49: 443, 51: 167, 54: 245, 55: 500, 56: 106, 57: 385, 61: 208, 62: 338, 63: 360, 66: 3, 67: 178, 68: 500, 69: 500, 71: 53, 72: 57}\n",
            "----------\n",
            "10626\n",
            "----------\n",
            "26\n"
          ]
        }
      ]
    },
    {
      "cell_type": "code",
      "source": [
        "len(non_zero_links)"
      ],
      "metadata": {
        "colab": {
          "base_uri": "https://localhost:8080/"
        },
        "id": "5yld9XMuAkQw",
        "outputId": "5b81ead9-19e3-43ca-9ce2-5dae582dd66c"
      },
      "execution_count": 35,
      "outputs": [
        {
          "output_type": "execute_result",
          "data": {
            "text/plain": [
              "48"
            ]
          },
          "metadata": {},
          "execution_count": 35
        }
      ]
    },
    {
      "cell_type": "code",
      "source": [
        "import requests\n",
        "import json\n",
        "import time\n",
        "\n",
        "for link in non_zero_links:\n",
        "  article_api_url = f'https://api.nytimes.com/svc/search/v2/articlesearch.json?fq=url:\"{link}\"&api-key=X9AoZwLjpliCdXaLgOIvwGLf24QvBSef'\n",
        "\n",
        "  time.sleep(30)\n",
        "  info = requests.get(article_api_url).json()\n",
        "\n",
        "  anchor = info['response']['docs'][0]\n",
        "\n",
        "  main = anchor['headline']['main']\n",
        "  abstract = anchor['abstract']\n",
        "  web_url = anchor['web_url']\n",
        "\n",
        "  kwds = anchor['keywords']\n",
        "  kwds_str = []\n",
        "  for kwd in kwds:\n",
        "    kwds_str.append(kwd['value'])\n",
        "\n",
        "  raw_comments = get_comments(link)\n",
        "\n",
        "  output = {\n",
        "    \"main\":main,\n",
        "    \"abstract\":abstract,\n",
        "    \"keywords\":kwds_str,\n",
        "    \"comments\":raw_comments,\n",
        "    \"web_url\": web_url\n",
        "    }\n",
        "\n",
        "  with open(f'{output[\"main\"]}.json','w',encoding='utf-8') as output_file:\n",
        "        output_file.write(json.dumps(output,indent=4))\n",
        "\n",
        "  print(f'{web_url}>>{len(raw_comments)}')"
      ],
      "metadata": {
        "colab": {
          "base_uri": "https://localhost:8080/"
        },
        "id": "vy4HFY4DERhm",
        "outputId": "baf6cebb-4bbf-47c7-bfa9-00e9875a1abb"
      },
      "execution_count": 57,
      "outputs": [
        {
          "output_type": "stream",
          "name": "stdout",
          "text": [
            "https://www.nytimes.com/interactive/2025/04/01/opinion/ivf-gene-selection-fertility.html>>195\n",
            "https://www.nytimes.com/2025/04/04/opinion/health-cancer-rfk-young.html>>171\n",
            "https://www.nytimes.com/2025/04/22/magazine/parenting-children-social-media.html>>155\n",
            "https://www.nytimes.com/2025/05/15/opinion/weight-watchers-bankrupt-dieting.html>>261\n",
            "https://www.nytimes.com/2025/05/24/opinion/muscles-bodies-fathers-daughters.html>>40\n",
            "https://www.nytimes.com/2025/08/12/opinion/freeze-sperm-infertility-chemicals.html>>245\n",
            "https://www.nytimes.com/2024/12/27/opinion/telehealth-medicine-technology-doctors.html>>176\n",
            "https://www.nytimes.com/2025/01/02/opinion/nutrition-ultraprocessed-food.html>>11\n",
            "https://www.nytimes.com/2025/01/08/opinion/pcos-diagnosis-internet-pregnancy.html>>9\n",
            "https://www.nytimes.com/2025/01/13/opinion/alcohol-cancer.html>>322\n",
            "https://www.nytimes.com/2025/01/16/opinion/health-care-geriatrics-boomers-aging.html>>189\n",
            "https://www.nytimes.com/2025/01/24/opinion/alzheimers-fraud-cure.html>>175\n",
            "https://www.nytimes.com/2025/03/11/opinion/pandemic-cycle-chaos.html>>56\n",
            "https://www.nytimes.com/2025/03/21/opinion/down-syndrome-family-life.html>>84\n",
            "https://www.nytimes.com/2024/05/01/opinion/smartphones-social-media-mental-health-teens.html>>141\n",
            "https://www.nytimes.com/2024/05/07/opinion/ozempic-weight-loss-drugs.html>>500\n",
            "https://www.nytimes.com/2024/05/13/opinion/allergies-climate-change.html>>130\n",
            "https://www.nytimes.com/2024/05/13/opinion/treatment-over-objection-medical-ethics.html>>259\n",
            "https://www.nytimes.com/2024/06/03/opinion/heat-technology-climate.html>>377\n",
            "https://www.nytimes.com/2024/06/15/opinion/father-dementia-family.html>>157\n",
            "https://www.nytimes.com/2024/06/08/opinion/alzheimers-mom-family-diagnosis.html>>138\n",
            "https://www.nytimes.com/2024/06/17/opinion/social-media-health-warning.html>>383\n",
            "https://www.nytimes.com/interactive/2024/06/20/opinion/nuclear-weapons-testing.html>>175\n",
            "https://www.nytimes.com/2024/06/30/opinion/food-warning-labels-ultra-processed-food.html>>259\n",
            "https://www.nytimes.com/2024/08/16/opinion/tuberculosis-infectious-disease-prevention.html>>69\n",
            "https://www.nytimes.com/2024/09/19/opinion/obesity-disease-ozempic-weight-loss.html>>500\n",
            "https://www.nytimes.com/2024/10/27/opinion/body-muscles-40s-aging.html>>196\n",
            "https://www.nytimes.com/interactive/2024/10/17/opinion/dobbs-roe-abortion-stories.html>>258\n",
            "https://www.nytimes.com/2024/10/28/opinion/opioid-crisis-pharmacists.html>>92\n",
            "https://www.nytimes.com/2024/11/05/opinion/uncertainty.html>>156\n",
            "https://www.nytimes.com/2024/11/10/opinion/diagnosis-clarity-cancer-illness.html>>154\n",
            "https://www.nytimes.com/2024/11/13/opinion/vaccines-fluoride-raw-milk.html>>500\n",
            "https://www.nytimes.com/2024/11/29/opinion/alzheimers-elder-care.html>>61\n",
            "https://www.nytimes.com/2024/12/16/opinion/ultraprocessed-food-nutrition.html>>443\n",
            "https://www.nytimes.com/2023/03/04/opinion/gene-editing-crispr-fertility-medicine.html>>167\n",
            "https://www.nytimes.com/2023/04/30/opinion/masks-pandemic.html>>245\n",
            "https://www.nytimes.com/2023/06/20/opinion/psychology-brain-biased-memory.html>>500\n",
            "https://www.nytimes.com/2023/08/02/opinion/health/coal-mining-black-lung-silica.html>>106\n",
            "https://www.nytimes.com/2023/08/30/opinion/cancer-breast-prostate-treatment.html>>385\n",
            "https://www.nytimes.com/2023/12/11/opinion/love-light-winter-darkness.html>>208\n",
            "https://www.nytimes.com/2023/12/13/opinion/addiction-policy-treatment-opioid.html>>338\n",
            "https://www.nytimes.com/interactive/2023/12/14/opinion/my-life-with-long-covid.html>>360\n",
            "https://www.nytimes.com/2024/02/01/opinion/health/measels-europe-vaccination.html>>3\n",
            "https://www.nytimes.com/2024/03/26/opinion/cancer-kate-middleton-privacy.html>>178\n",
            "https://www.nytimes.com/2024/04/02/opinion/kidney-donations-compensation.html>>500\n",
            "https://www.nytimes.com/2024/04/03/opinion/sex-assigned-at-birth.html>>500\n",
            "https://www.nytimes.com/2024/04/12/opinion/india-health-care-recovery.html>>53\n",
            "https://www.nytimes.com/2024/04/17/opinion/lumina-cavity-vaccine-covid-diy.html>>57\n"
          ]
        }
      ]
    }
  ]
}